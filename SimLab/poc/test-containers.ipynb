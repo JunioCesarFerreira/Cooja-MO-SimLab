{
 "cells": [
  {
   "cell_type": "markdown",
   "metadata": {},
   "source": [
    "# Docker Containers with SSH"
   ]
  },
  {
   "cell_type": "markdown",
   "metadata": {},
   "source": [
    "### SSH Client"
   ]
  },
  {
   "cell_type": "code",
   "execution_count": 1,
   "metadata": {},
   "outputs": [],
   "source": [
    "import paramiko\n",
    "from scp import SCPClient\n",
    "\n",
    "def create_ssh_client(hostname, port, username, password):\n",
    "    client = paramiko.SSHClient()\n",
    "    client.load_system_host_keys()\n",
    "    client.set_missing_host_key_policy(paramiko.AutoAddPolicy())\n",
    "    client.connect(hostname, port=port, username=username, password=password)\n",
    "    return client\n",
    "\n",
    "def send_files_scp(client, local_path, remote_path, source_files, target_files):\n",
    "    if len(source_files) != len(target_files):\n",
    "        print(\"The number of source files is not equal number of targets.\")\n",
    "        return\n",
    "    with SCPClient(client.get_transport()) as scp:\n",
    "        for src, dest in zip(source_files, target_files):\n",
    "            local_file_path = local_path + \"/\" + src\n",
    "            remote_file_path = remote_path + \"/\" + dest\n",
    "            print(f\"Sending {local_file_path} to {remote_file_path}\")\n",
    "            scp.put(local_file_path, remote_file_path)  "
   ]
  },
  {
   "cell_type": "markdown",
   "metadata": {},
   "source": [
    "### Consts"
   ]
  },
  {
   "cell_type": "code",
   "execution_count": 2,
   "metadata": {},
   "outputs": [],
   "source": [
    "LOCAL_DIRECTORY = '.'\n",
    "REMOTE_DIRECTORY = '/opt/contiki-ng/tools/cooja'\n",
    "CONTAINER_HOSTNAME = 'localhost'\n",
    "CONTAINER_USERNAME = 'root'\n",
    "CONTAINER_PASSWORD = 'root'  \n",
    "\n",
    "LOCAL_FILES = [\n",
    "    \"temp/simulation.xml\", \n",
    "    \"temp/positions.dat\",\n",
    "    \"data/Makefile\", \n",
    "    \"data/project-conf.h\",\n",
    "    \"data/udp-client.c\", \n",
    "    \"data/udp-server.c\"]\n",
    "\n",
    "REMOTE_FILES = [\n",
    "    \"simulation.csc\", \n",
    "    \"positions.dat\",\n",
    "    \"Makefile\", \n",
    "    \"project-conf.h\",\n",
    "    \"udp-client.c\", \n",
    "    \"udp-server.c\"]"
   ]
  },
  {
   "cell_type": "markdown",
   "metadata": {},
   "source": [
    "### Send basic data"
   ]
  },
  {
   "cell_type": "code",
   "execution_count": 4,
   "metadata": {},
   "outputs": [
    {
     "name": "stdout",
     "output_type": "stream",
     "text": [
      "Sending for port 2231\n",
      "Sending ./temp/simulation.xml to /opt/contiki-ng/tools/cooja/simulation.csc\n",
      "Sending ./temp/positions.dat to /opt/contiki-ng/tools/cooja/positions.dat\n",
      "Sending ./data/Makefile to /opt/contiki-ng/tools/cooja/Makefile\n",
      "Sending ./data/project-conf.h to /opt/contiki-ng/tools/cooja/project-conf.h\n",
      "Sending ./data/udp-client.c to /opt/contiki-ng/tools/cooja/udp-client.c\n",
      "Sending ./data/udp-server.c to /opt/contiki-ng/tools/cooja/udp-server.c\n",
      "Transfer completed.\n",
      "Sending for port 2232\n",
      "Sending ./temp/simulation.xml to /opt/contiki-ng/tools/cooja/simulation.csc\n",
      "Sending ./temp/positions.dat to /opt/contiki-ng/tools/cooja/positions.dat\n",
      "Sending ./data/Makefile to /opt/contiki-ng/tools/cooja/Makefile\n",
      "Sending ./data/project-conf.h to /opt/contiki-ng/tools/cooja/project-conf.h\n",
      "Sending ./data/udp-client.c to /opt/contiki-ng/tools/cooja/udp-client.c\n",
      "Sending ./data/udp-server.c to /opt/contiki-ng/tools/cooja/udp-server.c\n",
      "Transfer completed.\n",
      "Sending for port 2233\n",
      "Sending ./temp/simulation.xml to /opt/contiki-ng/tools/cooja/simulation.csc\n",
      "Sending ./temp/positions.dat to /opt/contiki-ng/tools/cooja/positions.dat\n",
      "Sending ./data/Makefile to /opt/contiki-ng/tools/cooja/Makefile\n",
      "Sending ./data/project-conf.h to /opt/contiki-ng/tools/cooja/project-conf.h\n",
      "Sending ./data/udp-client.c to /opt/contiki-ng/tools/cooja/udp-client.c\n",
      "Sending ./data/udp-server.c to /opt/contiki-ng/tools/cooja/udp-server.c\n",
      "Transfer completed.\n",
      "Sending for port 2234\n",
      "Sending ./temp/simulation.xml to /opt/contiki-ng/tools/cooja/simulation.csc\n",
      "Sending ./temp/positions.dat to /opt/contiki-ng/tools/cooja/positions.dat\n",
      "Sending ./data/Makefile to /opt/contiki-ng/tools/cooja/Makefile\n",
      "Sending ./data/project-conf.h to /opt/contiki-ng/tools/cooja/project-conf.h\n",
      "Sending ./data/udp-client.c to /opt/contiki-ng/tools/cooja/udp-client.c\n",
      "Sending ./data/udp-server.c to /opt/contiki-ng/tools/cooja/udp-server.c\n",
      "Transfer completed.\n",
      "Sending for port 2235\n",
      "Sending ./temp/simulation.xml to /opt/contiki-ng/tools/cooja/simulation.csc\n",
      "Sending ./temp/positions.dat to /opt/contiki-ng/tools/cooja/positions.dat\n",
      "Sending ./data/Makefile to /opt/contiki-ng/tools/cooja/Makefile\n",
      "Sending ./data/project-conf.h to /opt/contiki-ng/tools/cooja/project-conf.h\n",
      "Sending ./data/udp-client.c to /opt/contiki-ng/tools/cooja/udp-client.c\n",
      "Sending ./data/udp-server.c to /opt/contiki-ng/tools/cooja/udp-server.c\n",
      "Transfer completed.\n"
     ]
    }
   ],
   "source": [
    "for port in range(2231, 2236):\n",
    "    print(f\"Sending for port {port}\")\n",
    "    ssh = create_ssh_client(CONTAINER_HOSTNAME, port, CONTAINER_USERNAME, CONTAINER_PASSWORD)\n",
    "    send_files_scp(ssh, LOCAL_DIRECTORY, REMOTE_DIRECTORY, LOCAL_FILES, REMOTE_FILES)\n",
    "    ssh.close()\n",
    "    print(\"Transfer completed.\")"
   ]
  },
  {
   "cell_type": "markdown",
   "metadata": {},
   "source": [
    "### Running simulation and retrieving logs"
   ]
  },
  {
   "cell_type": "code",
   "execution_count": null,
   "metadata": {},
   "outputs": [
    {
     "name": "stdout",
     "output_type": "stream",
     "text": [
      "Simulação Cooja iniciada...\n",
      "\u001b[32mINFO  [main] [Cooja.java:1145] - Loading simulation.csc random seed: null\u001b[0;39m\n",
      "> make -j8 udp-server.cooja TARGET=cooja\n",
      "  LD        build/cooja/udp-server.cooja\n",
      "> make -j8 udp-client.cooja TARGET=cooja\n",
      "  LD        build/cooja/udp-client.cooja\n",
      "\u001b[32mINFO  [main] [LogScriptEngine.java:231] - Script timeout in 1501000 ms\u001b[0;39m\n",
      "\u001b[32mINFO  [sim] [LogScriptEngine.java:320] -  5% completed, 125.5 sec remaining\u001b[0;39m\n",
      "\u001b[32mINFO  [sim] [LogScriptEngine.java:320] - 10% completed, 104.4 sec remaining\u001b[0;39m\n",
      "\u001b[32mINFO  [sim] [LogScriptEngine.java:320] - 15% completed, 89.1 sec remaining\u001b[0;39m\n",
      "\u001b[32mINFO  [sim] [LogScriptEngine.java:320] - 20% completed, 80.6 sec remaining\u001b[0;39m\n",
      "\u001b[32mINFO  [sim] [LogScriptEngine.java:320] - 25% completed, 79.5 sec remaining\u001b[0;39m\n",
      "\u001b[32mINFO  [sim] [LogScriptEngine.java:320] - 30% completed, 77.0 sec remaining\u001b[0;39m\n",
      "\u001b[32mINFO  [sim] [LogScriptEngine.java:320] - 35% completed, 151.9 sec remaining\u001b[0;39m\n",
      "\u001b[32mINFO  [sim] [LogScriptEngine.java:320] - 40% completed, 131.1 sec remaining\u001b[0;39m\n",
      "\u001b[32mINFO  [sim] [LogScriptEngine.java:320] - 45% completed, 120.1 sec remaining\u001b[0;39m\n",
      "\u001b[32mINFO  [sim] [LogScriptEngine.java:320] - 50% completed, 102.9 sec remaining\u001b[0;39m\n",
      "\u001b[32mINFO  [sim] [LogScriptEngine.java:320] - 55% completed, 88.0 sec remaining\u001b[0;39m\n",
      "\u001b[32mINFO  [sim] [LogScriptEngine.java:320] - 60% completed, 74.8 sec remaining\u001b[0;39m\n",
      "\u001b[32mINFO  [sim] [LogScriptEngine.java:320] - 65% completed, 62.6 sec remaining\u001b[0;39m\n",
      "\u001b[32mINFO  [sim] [LogScriptEngine.java:320] - 70% completed, 51.7 sec remaining\u001b[0;39m\n",
      "\u001b[32mINFO  [sim] [LogScriptEngine.java:320] - 75% completed, 41.6 sec remaining\u001b[0;39m\n",
      "\u001b[32mINFO  [sim] [LogScriptEngine.java:320] - 80% completed, 32.4 sec remaining\u001b[0;39m\n",
      "\u001b[32mINFO  [sim] [LogScriptEngine.java:320] - 85% completed, 23.5 sec remaining\u001b[0;39m\n",
      "\u001b[32mINFO  [sim] [LogScriptEngine.java:320] - 90% completed, 15.3 sec remaining\u001b[0;39m\n",
      "\u001b[32mINFO  [sim] [LogScriptEngine.java:320] - 95% completed,  7.5 sec remaining\u001b[0;39m\n",
      "\u001b[32mINFO  [sim] [Simulation.java:450] - Runtime: 147291 ms. Simulated time: 1500288 ms. Speedup: 10.18587693749109\u001b[0;39m\n",
      "\u001b[32mINFO  [main] [Cooja.java:1171] - TEST OK\n",
      "\u001b[0;39m\n",
      "Simulação concluída com status: 0\n",
      "Arquivos copiados para logs/\n",
      "Conexão SSH encerrada\n"
     ]
    }
   ],
   "source": [
    "import scp\n",
    "from pathlib import Path\n",
    "\n",
    "# Caminhos remotos\n",
    "SIMULATION_FILE = \"simulation.csc\"\n",
    "REMOTE_LOG_FILE = \"sim.log\"\n",
    "REMOTE_TESTLOG = \"COOJA.testlog\"\n",
    "REMOTE_JAVA = \"/opt/java/openjdk/bin/java\"\n",
    "\n",
    "# Caminhos locais\n",
    "LOCAL_LOG_DIR = \"logs\"\n",
    "Path(LOCAL_LOG_DIR).mkdir(exist_ok=True)\n",
    "\n",
    "def run_cooja_simulation(port=2231):\n",
    "    ssh = create_ssh_client(CONTAINER_HOSTNAME, port, CONTAINER_USERNAME, CONTAINER_PASSWORD)\n",
    "    \n",
    "    try:        \n",
    "        # Comando a ser executado\n",
    "        command = f\"\"\"\n",
    "        cd ../{REMOTE_DIRECTORY} &&\n",
    "        {REMOTE_JAVA} --enable-preview -Xms4g -Xmx4g -jar build/libs/cooja.jar --no-gui {SIMULATION_FILE}\n",
    "        \"\"\"\n",
    "        \n",
    "        # Executa o comando e captura a saída em tempo real\n",
    "        stdin, stdout, stderr = ssh.exec_command(command)\n",
    "        \n",
    "        print(\"Simulação Cooja iniciada...\")\n",
    "        \n",
    "        for line in iter(stdout.readline, \"\"):\n",
    "            print(line, end=\"\")  # Exibe a saída da simulação em tempo real\n",
    "        \n",
    "        exit_status = stdout.channel.recv_exit_status()\n",
    "        print(f\"Simulação concluída com status: {exit_status}\")\n",
    "        \n",
    "        # Copia os arquivos via SCP\n",
    "        with scp.SCPClient(ssh.get_transport()) as scp_client:\n",
    "            scp_client.get(f\"{REMOTE_DIRECTORY}/{REMOTE_TESTLOG}\", f\"{LOCAL_LOG_DIR}/{REMOTE_TESTLOG}\")\n",
    "        \n",
    "        print(f\"Arquivos copiados para {LOCAL_LOG_DIR}/\")\n",
    "        \n",
    "    except Exception as e:\n",
    "        print(f\"Erro durante a execução: {str(e)}\")\n",
    "    finally:\n",
    "        ssh.close()\n",
    "        print(\"Conexão SSH encerrada\")\n",
    "\n",
    "if __name__ == \"__main__\":\n",
    "    run_cooja_simulation()"
   ]
  }
 ],
 "metadata": {
  "kernelspec": {
   "display_name": "Python 3",
   "language": "python",
   "name": "python3"
  },
  "language_info": {
   "codemirror_mode": {
    "name": "ipython",
    "version": 3
   },
   "file_extension": ".py",
   "mimetype": "text/x-python",
   "name": "python",
   "nbconvert_exporter": "python",
   "pygments_lexer": "ipython3",
   "version": "3.12.1"
  }
 },
 "nbformat": 4,
 "nbformat_minor": 2
}
